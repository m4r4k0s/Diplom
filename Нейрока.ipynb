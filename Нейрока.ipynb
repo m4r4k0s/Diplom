{
 "cells": [
  {
   "cell_type": "code",
   "execution_count": 1,
   "id": "25e85fed",
   "metadata": {},
   "outputs": [],
   "source": [
    "import os\n",
    "os.environ['TF_CPP_MIN_LOG_LEVEL'] = '2'"
   ]
  },
  {
   "cell_type": "code",
   "execution_count": 2,
   "id": "379abe62",
   "metadata": {},
   "outputs": [],
   "source": [
    "import numpy as np\n",
    "import re\n",
    "import tensorflow as tf\n",
    "import pickle\n",
    "import pandas as pd\n",
    "\n",
    "from tensorflow.keras.layers import Dense, Input, Dropout, Embedding\n",
    "from tensorflow.keras.models import Sequential\n",
    "from tensorflow.keras.optimizers import Adam\n",
    "from tensorflow.keras.preprocessing.text import Tokenizer, text_to_word_sequence\n",
    "from tensorflow.keras.preprocessing.sequence import pad_sequences"
   ]
  },
  {
   "cell_type": "code",
   "execution_count": 3,
   "id": "a9b32aa6",
   "metadata": {},
   "outputs": [],
   "source": [
    "physical_devices = tf.config.list_physical_devices('GPU')\n",
    "tf.config.experimental.set_memory_growth(physical_devices[0], enable=True)"
   ]
  },
  {
   "cell_type": "markdown",
   "id": "19acab19",
   "metadata": {},
   "source": [
    "## Импорт текстов"
   ]
  },
  {
   "cell_type": "code",
   "execution_count": 4,
   "id": "9a4c1a10",
   "metadata": {},
   "outputs": [
    {
     "data": {
      "text/plain": [
       "(61200, 768)"
      ]
     },
     "execution_count": 4,
     "metadata": {},
     "output_type": "execute_result"
    }
   ],
   "source": [
    "with open(\"BERT_embeds.pkl\", \"rb\") as file_to_read:\n",
    "    corpus_embeds = pickle.load(file_to_read)\n",
    "    \n",
    "corpus_embeds_np = np.asarray(corpus_embeds)\n",
    "corpus_embeds_np.shape"
   ]
  },
  {
   "cell_type": "markdown",
   "id": "2c5b265a",
   "metadata": {},
   "source": [
    "## Подготовка данных и обучение первой нейроной сети (по темам)"
   ]
  },
  {
   "cell_type": "code",
   "execution_count": 5,
   "id": "f5c6f7b1",
   "metadata": {},
   "outputs": [
    {
     "data": {
      "text/html": [
       "<div>\n",
       "<style scoped>\n",
       "    .dataframe tbody tr th:only-of-type {\n",
       "        vertical-align: middle;\n",
       "    }\n",
       "\n",
       "    .dataframe tbody tr th {\n",
       "        vertical-align: top;\n",
       "    }\n",
       "\n",
       "    .dataframe thead th {\n",
       "        text-align: right;\n",
       "    }\n",
       "</style>\n",
       "<table border=\"1\" class=\"dataframe\">\n",
       "  <thead>\n",
       "    <tr style=\"text-align: right;\">\n",
       "      <th></th>\n",
       "      <th>0</th>\n",
       "      <th>1</th>\n",
       "      <th>2</th>\n",
       "      <th>3</th>\n",
       "      <th>4</th>\n",
       "      <th>5</th>\n",
       "    </tr>\n",
       "  </thead>\n",
       "  <tbody>\n",
       "    <tr>\n",
       "      <th>0</th>\n",
       "      <td>0</td>\n",
       "      <td>0</td>\n",
       "      <td>0</td>\n",
       "      <td>1</td>\n",
       "      <td>0</td>\n",
       "      <td>0</td>\n",
       "    </tr>\n",
       "    <tr>\n",
       "      <th>1</th>\n",
       "      <td>1</td>\n",
       "      <td>0</td>\n",
       "      <td>0</td>\n",
       "      <td>0</td>\n",
       "      <td>0</td>\n",
       "      <td>0</td>\n",
       "    </tr>\n",
       "    <tr>\n",
       "      <th>2</th>\n",
       "      <td>0</td>\n",
       "      <td>0</td>\n",
       "      <td>0</td>\n",
       "      <td>0</td>\n",
       "      <td>1</td>\n",
       "      <td>0</td>\n",
       "    </tr>\n",
       "    <tr>\n",
       "      <th>3</th>\n",
       "      <td>0</td>\n",
       "      <td>1</td>\n",
       "      <td>0</td>\n",
       "      <td>0</td>\n",
       "      <td>0</td>\n",
       "      <td>0</td>\n",
       "    </tr>\n",
       "    <tr>\n",
       "      <th>4</th>\n",
       "      <td>0</td>\n",
       "      <td>0</td>\n",
       "      <td>0</td>\n",
       "      <td>1</td>\n",
       "      <td>0</td>\n",
       "      <td>0</td>\n",
       "    </tr>\n",
       "    <tr>\n",
       "      <th>...</th>\n",
       "      <td>...</td>\n",
       "      <td>...</td>\n",
       "      <td>...</td>\n",
       "      <td>...</td>\n",
       "      <td>...</td>\n",
       "      <td>...</td>\n",
       "    </tr>\n",
       "    <tr>\n",
       "      <th>61195</th>\n",
       "      <td>0</td>\n",
       "      <td>0</td>\n",
       "      <td>1</td>\n",
       "      <td>0</td>\n",
       "      <td>0</td>\n",
       "      <td>0</td>\n",
       "    </tr>\n",
       "    <tr>\n",
       "      <th>61196</th>\n",
       "      <td>0</td>\n",
       "      <td>0</td>\n",
       "      <td>0</td>\n",
       "      <td>0</td>\n",
       "      <td>1</td>\n",
       "      <td>0</td>\n",
       "    </tr>\n",
       "    <tr>\n",
       "      <th>61197</th>\n",
       "      <td>0</td>\n",
       "      <td>0</td>\n",
       "      <td>1</td>\n",
       "      <td>0</td>\n",
       "      <td>0</td>\n",
       "      <td>0</td>\n",
       "    </tr>\n",
       "    <tr>\n",
       "      <th>61198</th>\n",
       "      <td>0</td>\n",
       "      <td>1</td>\n",
       "      <td>0</td>\n",
       "      <td>0</td>\n",
       "      <td>0</td>\n",
       "      <td>0</td>\n",
       "    </tr>\n",
       "    <tr>\n",
       "      <th>61199</th>\n",
       "      <td>1</td>\n",
       "      <td>0</td>\n",
       "      <td>0</td>\n",
       "      <td>0</td>\n",
       "      <td>0</td>\n",
       "      <td>0</td>\n",
       "    </tr>\n",
       "  </tbody>\n",
       "</table>\n",
       "<p>61200 rows × 6 columns</p>\n",
       "</div>"
      ],
      "text/plain": [
       "       0  1  2  3  4  5\n",
       "0      0  0  0  1  0  0\n",
       "1      1  0  0  0  0  0\n",
       "2      0  0  0  0  1  0\n",
       "3      0  1  0  0  0  0\n",
       "4      0  0  0  1  0  0\n",
       "...   .. .. .. .. .. ..\n",
       "61195  0  0  1  0  0  0\n",
       "61196  0  0  0  0  1  0\n",
       "61197  0  0  1  0  0  0\n",
       "61198  0  1  0  0  0  0\n",
       "61199  1  0  0  0  0  0\n",
       "\n",
       "[61200 rows x 6 columns]"
      ]
     },
     "execution_count": 5,
     "metadata": {},
     "output_type": "execute_result"
    }
   ],
   "source": [
    "with open(\"Classes_KMeans.pkl\", \"rb\") as file_to_read:\n",
    "    classes_KM = pickle.load(file_to_read)\n",
    "    \n",
    "classes_KM_np = np.asarray(classes_KM)\n",
    "classes_KM_np_dum = pd.get_dummies(classes_KM_np)\n",
    "classes_KM_np_dum"
   ]
  },
  {
   "cell_type": "code",
   "execution_count": 6,
   "id": "a1bd3e11",
   "metadata": {},
   "outputs": [],
   "source": [
    "from sklearn.model_selection import train_test_split\n",
    "X_train, X_test, y_train, y_test = train_test_split(corpus_embeds_np, classes_KM_np_dum, test_size=0.1, random_state=42)"
   ]
  },
  {
   "cell_type": "code",
   "execution_count": 7,
   "id": "c0233315",
   "metadata": {},
   "outputs": [
    {
     "name": "stdout",
     "output_type": "stream",
     "text": [
      "Model: \"sequential\"\n",
      "_________________________________________________________________\n",
      " Layer (type)                Output Shape              Param #   \n",
      "=================================================================\n",
      " dense (Dense)               (None, 256)               196864    \n",
      "                                                                 \n",
      " dense_1 (Dense)             (None, 128)               32896     \n",
      "                                                                 \n",
      " dropout (Dropout)           (None, 128)               0         \n",
      "                                                                 \n",
      " dense_2 (Dense)             (None, 64)                8256      \n",
      "                                                                 \n",
      " dropout_1 (Dropout)         (None, 64)                0         \n",
      "                                                                 \n",
      " dense_3 (Dense)             (None, 6)                 390       \n",
      "                                                                 \n",
      "=================================================================\n",
      "Total params: 238,406\n",
      "Trainable params: 238,406\n",
      "Non-trainable params: 0\n",
      "_________________________________________________________________\n"
     ]
    }
   ],
   "source": [
    "model_km = Sequential()\n",
    "model_km.add(Dense(256, activation = \"relu\", input_shape=(768, )))\n",
    "model_km.add(Dense(128, activation = \"relu\"))\n",
    "model_km.add(Dropout(0.3, noise_shape=None, seed=None))\n",
    "model_km.add(Dense(64,activation = \"relu\"))\n",
    "model_km.add(Dropout(0.2, noise_shape=None, seed=None))\n",
    "model_km.add(Dense(6, activation='softmax'))\n",
    "model_km.summary()\n",
    "\n",
    "model_km.compile(loss='categorical_crossentropy', metrics=['accuracy'], optimizer=Adam(0.0001))"
   ]
  },
  {
   "cell_type": "code",
   "execution_count": 8,
   "id": "96e39b7c",
   "metadata": {},
   "outputs": [
    {
     "name": "stdout",
     "output_type": "stream",
     "text": [
      "Epoch 1/50\n",
      "1722/1722 [==============================] - 3s 2ms/step - loss: 0.2623 - accuracy: 0.9027 - val_loss: 0.0798 - val_accuracy: 0.9701\n",
      "Epoch 2/50\n",
      "1722/1722 [==============================] - 2s 1ms/step - loss: 0.0900 - accuracy: 0.9645 - val_loss: 0.0542 - val_accuracy: 0.9760\n",
      "Epoch 3/50\n",
      "1722/1722 [==============================] - 2s 1ms/step - loss: 0.0666 - accuracy: 0.9728 - val_loss: 0.0568 - val_accuracy: 0.9748\n",
      "Epoch 4/50\n",
      "1722/1722 [==============================] - 2s 1ms/step - loss: 0.0548 - accuracy: 0.9779 - val_loss: 0.0440 - val_accuracy: 0.9820\n",
      "Epoch 5/50\n",
      "1722/1722 [==============================] - 2s 1ms/step - loss: 0.0473 - accuracy: 0.9815 - val_loss: 0.0348 - val_accuracy: 0.9855\n",
      "Epoch 6/50\n",
      "1722/1722 [==============================] - 2s 1ms/step - loss: 0.0438 - accuracy: 0.9822 - val_loss: 0.0574 - val_accuracy: 0.9750\n",
      "Epoch 7/50\n",
      "1722/1722 [==============================] - 2s 1ms/step - loss: 0.0393 - accuracy: 0.9844 - val_loss: 0.0357 - val_accuracy: 0.9858\n",
      "Epoch 8/50\n",
      "1722/1722 [==============================] - 2s 1ms/step - loss: 0.0372 - accuracy: 0.9849 - val_loss: 0.0354 - val_accuracy: 0.9842\n",
      "Epoch 9/50\n",
      "1722/1722 [==============================] - 2s 1ms/step - loss: 0.0322 - accuracy: 0.9871 - val_loss: 0.0425 - val_accuracy: 0.9814\n",
      "Epoch 10/50\n",
      "1722/1722 [==============================] - 2s 1ms/step - loss: 0.0305 - accuracy: 0.9880 - val_loss: 0.0299 - val_accuracy: 0.9874\n",
      "Epoch 11/50\n",
      "1722/1722 [==============================] - 2s 1ms/step - loss: 0.0295 - accuracy: 0.9885 - val_loss: 0.0382 - val_accuracy: 0.9851\n",
      "Epoch 12/50\n",
      "1722/1722 [==============================] - 2s 1ms/step - loss: 0.0293 - accuracy: 0.9886 - val_loss: 0.0388 - val_accuracy: 0.9837\n",
      "Epoch 13/50\n",
      "1722/1722 [==============================] - 2s 1ms/step - loss: 0.0253 - accuracy: 0.9899 - val_loss: 0.0454 - val_accuracy: 0.9824\n",
      "Epoch 14/50\n",
      "1722/1722 [==============================] - 2s 1ms/step - loss: 0.0252 - accuracy: 0.9904 - val_loss: 0.0295 - val_accuracy: 0.9871\n",
      "Epoch 15/50\n",
      "1722/1722 [==============================] - 2s 1ms/step - loss: 0.0233 - accuracy: 0.9910 - val_loss: 0.0410 - val_accuracy: 0.9828\n",
      "Epoch 16/50\n",
      "1722/1722 [==============================] - 2s 1ms/step - loss: 0.0231 - accuracy: 0.9911 - val_loss: 0.0466 - val_accuracy: 0.9833\n",
      "Epoch 17/50\n",
      "1722/1722 [==============================] - 2s 1ms/step - loss: 0.0217 - accuracy: 0.9918 - val_loss: 0.0280 - val_accuracy: 0.9876\n",
      "Epoch 18/50\n",
      "1722/1722 [==============================] - 2s 1ms/step - loss: 0.0198 - accuracy: 0.9928 - val_loss: 0.0496 - val_accuracy: 0.9807\n",
      "Epoch 19/50\n",
      "1722/1722 [==============================] - 2s 1ms/step - loss: 0.0185 - accuracy: 0.9931 - val_loss: 0.0411 - val_accuracy: 0.9843\n",
      "Epoch 20/50\n",
      "1722/1722 [==============================] - 2s 1ms/step - loss: 0.0172 - accuracy: 0.9936 - val_loss: 0.0347 - val_accuracy: 0.9861\n",
      "Epoch 21/50\n",
      "1722/1722 [==============================] - 2s 1ms/step - loss: 0.0172 - accuracy: 0.9933 - val_loss: 0.0383 - val_accuracy: 0.9851\n",
      "Epoch 22/50\n",
      "1722/1722 [==============================] - 2s 1ms/step - loss: 0.0174 - accuracy: 0.9935 - val_loss: 0.0355 - val_accuracy: 0.9856\n",
      "Epoch 23/50\n",
      "1722/1722 [==============================] - 2s 1ms/step - loss: 0.0164 - accuracy: 0.9941 - val_loss: 0.0388 - val_accuracy: 0.9853\n",
      "Epoch 24/50\n",
      "1722/1722 [==============================] - 2s 1ms/step - loss: 0.0157 - accuracy: 0.9942 - val_loss: 0.0382 - val_accuracy: 0.9869\n",
      "Epoch 25/50\n",
      "1722/1722 [==============================] - 2s 1ms/step - loss: 0.0160 - accuracy: 0.9938 - val_loss: 0.0294 - val_accuracy: 0.9884\n",
      "Epoch 26/50\n",
      "1722/1722 [==============================] - 2s 1ms/step - loss: 0.0138 - accuracy: 0.9948 - val_loss: 0.0318 - val_accuracy: 0.9876\n",
      "Epoch 27/50\n",
      "1722/1722 [==============================] - 2s 1ms/step - loss: 0.0132 - accuracy: 0.9951 - val_loss: 0.0395 - val_accuracy: 0.9858\n",
      "Epoch 28/50\n",
      "1722/1722 [==============================] - 2s 1ms/step - loss: 0.0131 - accuracy: 0.9955 - val_loss: 0.0500 - val_accuracy: 0.9838\n",
      "Epoch 29/50\n",
      "1722/1722 [==============================] - 2s 1ms/step - loss: 0.0131 - accuracy: 0.9952 - val_loss: 0.0685 - val_accuracy: 0.9791\n",
      "Epoch 30/50\n",
      "1722/1722 [==============================] - 2s 1ms/step - loss: 0.0129 - accuracy: 0.9953 - val_loss: 0.0567 - val_accuracy: 0.9830\n",
      "Epoch 31/50\n",
      "1722/1722 [==============================] - 2s 1ms/step - loss: 0.0110 - accuracy: 0.9961 - val_loss: 0.0534 - val_accuracy: 0.9843\n",
      "Epoch 32/50\n",
      "1722/1722 [==============================] - 2s 1ms/step - loss: 0.0104 - accuracy: 0.9966 - val_loss: 0.0498 - val_accuracy: 0.9846\n",
      "Epoch 33/50\n",
      "1722/1722 [==============================] - 2s 1ms/step - loss: 0.0113 - accuracy: 0.9962 - val_loss: 0.0332 - val_accuracy: 0.9884\n",
      "Epoch 34/50\n",
      "1722/1722 [==============================] - 2s 1ms/step - loss: 0.0123 - accuracy: 0.9957 - val_loss: 0.0375 - val_accuracy: 0.9864\n",
      "Epoch 35/50\n",
      "1722/1722 [==============================] - 2s 1ms/step - loss: 0.0104 - accuracy: 0.9966 - val_loss: 0.0522 - val_accuracy: 0.9842\n",
      "Epoch 36/50\n",
      "1722/1722 [==============================] - 2s 1ms/step - loss: 0.0124 - accuracy: 0.9958 - val_loss: 0.0401 - val_accuracy: 0.9873\n",
      "Epoch 37/50\n",
      "1722/1722 [==============================] - 2s 1ms/step - loss: 0.0099 - accuracy: 0.9966 - val_loss: 0.0531 - val_accuracy: 0.9848\n",
      "Epoch 38/50\n",
      "1722/1722 [==============================] - 2s 1ms/step - loss: 0.0103 - accuracy: 0.9964 - val_loss: 0.0337 - val_accuracy: 0.9877\n",
      "Epoch 39/50\n",
      "1722/1722 [==============================] - 2s 1ms/step - loss: 0.0073 - accuracy: 0.9975 - val_loss: 0.0367 - val_accuracy: 0.9877\n",
      "Epoch 40/50\n",
      "1722/1722 [==============================] - 2s 1ms/step - loss: 0.0097 - accuracy: 0.9966 - val_loss: 0.0448 - val_accuracy: 0.9856\n",
      "Epoch 41/50\n",
      "1722/1722 [==============================] - 2s 1ms/step - loss: 0.0081 - accuracy: 0.9972 - val_loss: 0.0674 - val_accuracy: 0.9815\n",
      "Epoch 42/50\n",
      "1722/1722 [==============================] - 2s 1ms/step - loss: 0.0090 - accuracy: 0.9969 - val_loss: 0.0499 - val_accuracy: 0.9859\n",
      "Epoch 43/50\n",
      "1722/1722 [==============================] - 2s 1ms/step - loss: 0.0083 - accuracy: 0.9970 - val_loss: 0.0383 - val_accuracy: 0.9882\n",
      "Epoch 44/50\n",
      "1722/1722 [==============================] - 2s 1ms/step - loss: 0.0073 - accuracy: 0.9976 - val_loss: 0.0527 - val_accuracy: 0.9848\n",
      "Epoch 45/50\n",
      "1722/1722 [==============================] - 2s 1ms/step - loss: 0.0091 - accuracy: 0.9971 - val_loss: 0.0611 - val_accuracy: 0.9820\n",
      "Epoch 46/50\n",
      "1722/1722 [==============================] - 2s 1ms/step - loss: 0.0086 - accuracy: 0.9970 - val_loss: 0.1047 - val_accuracy: 0.9770\n",
      "Epoch 47/50\n",
      "1722/1722 [==============================] - 2s 1ms/step - loss: 0.0073 - accuracy: 0.9974 - val_loss: 0.0559 - val_accuracy: 0.9856\n",
      "Epoch 48/50\n",
      "1722/1722 [==============================] - 2s 1ms/step - loss: 0.0081 - accuracy: 0.9975 - val_loss: 0.0393 - val_accuracy: 0.9879\n",
      "Epoch 49/50\n",
      "1722/1722 [==============================] - 2s 1ms/step - loss: 0.0072 - accuracy: 0.9976 - val_loss: 0.0447 - val_accuracy: 0.9863\n",
      "Epoch 50/50\n",
      "1722/1722 [==============================] - 2s 1ms/step - loss: 0.0062 - accuracy: 0.9978 - val_loss: 0.0649 - val_accuracy: 0.9832\n"
     ]
    }
   ],
   "source": [
    "history_km = model_km.fit(X_train, y_train, batch_size=32, epochs=50, validation_data=(X_test,y_test))"
   ]
  },
  {
   "cell_type": "code",
   "execution_count": 11,
   "id": "43d42746",
   "metadata": {},
   "outputs": [
    {
     "name": "stdout",
     "output_type": "stream",
     "text": [
      "Test-Accuracy: 0.9839901947975158\n"
     ]
    }
   ],
   "source": [
    "print(\"Test-Accuracy:\", np.mean(history_km.history[\"val_accuracy\"]))"
   ]
  },
  {
   "cell_type": "code",
   "execution_count": 40,
   "id": "7faf953d",
   "metadata": {},
   "outputs": [
    {
     "data": {
      "image/png": "[encoded data removed]",
      "text/plain": [
       "<Figure size 960x480 with 1 Axes>"
      ]
     },
     "metadata": {
      "needs_background": "light"
     },
     "output_type": "display_data"
    }
   ],
   "source": [
    "import matplotlib.pyplot as plt\n",
    "plt.figure(figsize=(8, 4), dpi=120)\n",
    "plt.plot(range(1,51), history_km.history[\"val_loss\"], label = \"test\")\n",
    "plt.plot(range(1,51), history_km.history[\"loss\"], label = \"train\")\n",
    "plt.legend()\n",
    "plt.show()"
   ]
  },
  {
   "cell_type": "code",
   "execution_count": 101,
   "id": "20705e89",
   "metadata": {},
   "outputs": [
    {
     "data": {
      "image/png": "[encoded data removed]",
      "text/plain": [
       "<Figure size 960x480 with 1 Axes>"
      ]
     },
     "metadata": {
      "needs_background": "light"
     },
     "output_type": "display_data"
    }
   ],
   "source": [
    "import matplotlib.pyplot as plt\n",
    "plt.figure(figsize=(8, 4), dpi=120)\n",
    "plt.plot(range(1,51), history_km.history[\"val_accuracy\"], label = \"test\")\n",
    "plt.plot(range(1,51), history_km.history[\"accuracy\"], label = \"train\")\n",
    "plt.legend()\n",
    "plt.grid()\n",
    "plt.show()"
   ]
  },
  {
   "cell_type": "markdown",
   "id": "317058a5",
   "metadata": {},
   "source": [
    "## Подготовка данных и обучение второй нейроной сети (аномалия/не аномалия)"
   ]
  },
  {
   "cell_type": "code",
   "execution_count": 19,
   "id": "f2f343cc",
   "metadata": {},
   "outputs": [
    {
     "data": {
      "text/html": [
       "<div>\n",
       "<style scoped>\n",
       "    .dataframe tbody tr th:only-of-type {\n",
       "        vertical-align: middle;\n",
       "    }\n",
       "\n",
       "    .dataframe tbody tr th {\n",
       "        vertical-align: top;\n",
       "    }\n",
       "\n",
       "    .dataframe thead th {\n",
       "        text-align: right;\n",
       "    }\n",
       "</style>\n",
       "<table border=\"1\" class=\"dataframe\">\n",
       "  <thead>\n",
       "    <tr style=\"text-align: right;\">\n",
       "      <th></th>\n",
       "      <th>0</th>\n",
       "      <th>1</th>\n",
       "    </tr>\n",
       "  </thead>\n",
       "  <tbody>\n",
       "    <tr>\n",
       "      <th>0</th>\n",
       "      <td>1</td>\n",
       "      <td>0</td>\n",
       "    </tr>\n",
       "    <tr>\n",
       "      <th>1</th>\n",
       "      <td>1</td>\n",
       "      <td>0</td>\n",
       "    </tr>\n",
       "    <tr>\n",
       "      <th>2</th>\n",
       "      <td>1</td>\n",
       "      <td>0</td>\n",
       "    </tr>\n",
       "    <tr>\n",
       "      <th>3</th>\n",
       "      <td>1</td>\n",
       "      <td>0</td>\n",
       "    </tr>\n",
       "    <tr>\n",
       "      <th>4</th>\n",
       "      <td>1</td>\n",
       "      <td>0</td>\n",
       "    </tr>\n",
       "    <tr>\n",
       "      <th>...</th>\n",
       "      <td>...</td>\n",
       "      <td>...</td>\n",
       "    </tr>\n",
       "    <tr>\n",
       "      <th>61195</th>\n",
       "      <td>1</td>\n",
       "      <td>0</td>\n",
       "    </tr>\n",
       "    <tr>\n",
       "      <th>61196</th>\n",
       "      <td>1</td>\n",
       "      <td>0</td>\n",
       "    </tr>\n",
       "    <tr>\n",
       "      <th>61197</th>\n",
       "      <td>1</td>\n",
       "      <td>0</td>\n",
       "    </tr>\n",
       "    <tr>\n",
       "      <th>61198</th>\n",
       "      <td>1</td>\n",
       "      <td>0</td>\n",
       "    </tr>\n",
       "    <tr>\n",
       "      <th>61199</th>\n",
       "      <td>1</td>\n",
       "      <td>0</td>\n",
       "    </tr>\n",
       "  </tbody>\n",
       "</table>\n",
       "<p>61200 rows × 2 columns</p>\n",
       "</div>"
      ],
      "text/plain": [
       "       0  1\n",
       "0      1  0\n",
       "1      1  0\n",
       "2      1  0\n",
       "3      1  0\n",
       "4      1  0\n",
       "...   .. ..\n",
       "61195  1  0\n",
       "61196  1  0\n",
       "61197  1  0\n",
       "61198  1  0\n",
       "61199  1  0\n",
       "\n",
       "[61200 rows x 2 columns]"
      ]
     },
     "execution_count": 19,
     "metadata": {},
     "output_type": "execute_result"
    }
   ],
   "source": [
    "with open(\"anomaly.pkl\", \"rb\") as file_to_read:\n",
    "    anomaly = pickle.load(file_to_read)\n",
    "    \n",
    "anomaly_np = np.asarray(anomaly)\n",
    "anomaly_np_dum = pd.get_dummies(anomaly_np)\n",
    "anomaly_np_dum"
   ]
  },
  {
   "cell_type": "code",
   "execution_count": 21,
   "id": "e29365c9",
   "metadata": {},
   "outputs": [],
   "source": [
    "X_train_an, X_test_an, y_train_an, y_test_an = train_test_split(corpus_embeds_np, anomaly_np_dum, test_size=0.1, random_state=42)"
   ]
  },
  {
   "cell_type": "code",
   "execution_count": 24,
   "id": "dc7ac75f",
   "metadata": {},
   "outputs": [
    {
     "name": "stdout",
     "output_type": "stream",
     "text": [
      "Model: \"sequential_2\"\n",
      "_________________________________________________________________\n",
      " Layer (type)                Output Shape              Param #   \n",
      "=================================================================\n",
      " dense_8 (Dense)             (None, 256)               196864    \n",
      "                                                                 \n",
      " dense_9 (Dense)             (None, 128)               32896     \n",
      "                                                                 \n",
      " dropout_4 (Dropout)         (None, 128)               0         \n",
      "                                                                 \n",
      " dense_10 (Dense)            (None, 64)                8256      \n",
      "                                                                 \n",
      " dropout_5 (Dropout)         (None, 64)                0         \n",
      "                                                                 \n",
      " dense_11 (Dense)            (None, 2)                 130       \n",
      "                                                                 \n",
      "=================================================================\n",
      "Total params: 238,146\n",
      "Trainable params: 238,146\n",
      "Non-trainable params: 0\n",
      "_________________________________________________________________\n"
     ]
    }
   ],
   "source": [
    "model_an = Sequential()\n",
    "model_an.add(Dense(256, activation = \"relu\", input_shape=(768, )))\n",
    "model_an.add(Dense(128, activation = \"relu\"))\n",
    "model_an.add(Dropout(0.3, noise_shape=None, seed=None))\n",
    "model_an.add(Dense(64,activation = \"relu\"))\n",
    "model_an.add(Dropout(0.2, noise_shape=None, seed=None))\n",
    "model_an.add(Dense(2, activation='softmax'))\n",
    "model_an.summary()\n",
    "\n",
    "model_an.compile(loss='binary_crossentropy', metrics=['accuracy'], optimizer=Adam(0.0001))"
   ]
  },
  {
   "cell_type": "code",
   "execution_count": 25,
   "id": "60c52a0e",
   "metadata": {},
   "outputs": [
    {
     "name": "stdout",
     "output_type": "stream",
     "text": [
      "Epoch 1/50\n",
      "1722/1722 [==============================] - 3s 1ms/step - loss: 0.0220 - accuracy: 0.9923 - val_loss: 0.0130 - val_accuracy: 0.9951\n",
      "Epoch 2/50\n",
      "1722/1722 [==============================] - 2s 1ms/step - loss: 0.0114 - accuracy: 0.9954 - val_loss: 0.0116 - val_accuracy: 0.9966\n",
      "Epoch 3/50\n",
      "1722/1722 [==============================] - 2s 1ms/step - loss: 0.0094 - accuracy: 0.9960 - val_loss: 0.0099 - val_accuracy: 0.9964\n",
      "Epoch 4/50\n",
      "1722/1722 [==============================] - 2s 1ms/step - loss: 0.0080 - accuracy: 0.9967 - val_loss: 0.0089 - val_accuracy: 0.9967\n",
      "Epoch 5/50\n",
      "1722/1722 [==============================] - 2s 1ms/step - loss: 0.0075 - accuracy: 0.9969 - val_loss: 0.0084 - val_accuracy: 0.9964\n",
      "Epoch 6/50\n",
      "1722/1722 [==============================] - 2s 1ms/step - loss: 0.0064 - accuracy: 0.9975 - val_loss: 0.0087 - val_accuracy: 0.9967\n",
      "Epoch 7/50\n",
      "1722/1722 [==============================] - 2s 1ms/step - loss: 0.0060 - accuracy: 0.9975 - val_loss: 0.0088 - val_accuracy: 0.9972\n",
      "Epoch 8/50\n",
      "1722/1722 [==============================] - 2s 1ms/step - loss: 0.0055 - accuracy: 0.9976 - val_loss: 0.0095 - val_accuracy: 0.9967\n",
      "Epoch 9/50\n",
      "1722/1722 [==============================] - 2s 1ms/step - loss: 0.0052 - accuracy: 0.9979 - val_loss: 0.0082 - val_accuracy: 0.9969\n",
      "Epoch 10/50\n",
      "1722/1722 [==============================] - 2s 1ms/step - loss: 0.0042 - accuracy: 0.9983 - val_loss: 0.0078 - val_accuracy: 0.9969\n",
      "Epoch 11/50\n",
      "1722/1722 [==============================] - 2s 1ms/step - loss: 0.0041 - accuracy: 0.9984 - val_loss: 0.0126 - val_accuracy: 0.9953\n",
      "Epoch 12/50\n",
      "1722/1722 [==============================] - 2s 1ms/step - loss: 0.0035 - accuracy: 0.9987 - val_loss: 0.0093 - val_accuracy: 0.9972\n",
      "Epoch 13/50\n",
      "1722/1722 [==============================] - 2s 1ms/step - loss: 0.0034 - accuracy: 0.9987 - val_loss: 0.0097 - val_accuracy: 0.9967\n",
      "Epoch 14/50\n",
      "1722/1722 [==============================] - 2s 1ms/step - loss: 0.0030 - accuracy: 0.9987 - val_loss: 0.0102 - val_accuracy: 0.9969\n",
      "Epoch 15/50\n",
      "1722/1722 [==============================] - 2s 1ms/step - loss: 0.0032 - accuracy: 0.9987 - val_loss: 0.0103 - val_accuracy: 0.9974\n",
      "Epoch 16/50\n",
      "1722/1722 [==============================] - 2s 1ms/step - loss: 0.0028 - accuracy: 0.9989 - val_loss: 0.0117 - val_accuracy: 0.9962\n",
      "Epoch 17/50\n",
      "1722/1722 [==============================] - 2s 1ms/step - loss: 0.0024 - accuracy: 0.9992 - val_loss: 0.0077 - val_accuracy: 0.9969\n",
      "Epoch 18/50\n",
      "1722/1722 [==============================] - 2s 1ms/step - loss: 0.0020 - accuracy: 0.9992 - val_loss: 0.0119 - val_accuracy: 0.9967\n",
      "Epoch 19/50\n",
      "1722/1722 [==============================] - 2s 1ms/step - loss: 0.0020 - accuracy: 0.9991 - val_loss: 0.0099 - val_accuracy: 0.9974\n",
      "Epoch 20/50\n",
      "1722/1722 [==============================] - 2s 1ms/step - loss: 0.0019 - accuracy: 0.9992 - val_loss: 0.0106 - val_accuracy: 0.9974\n",
      "Epoch 21/50\n",
      "1722/1722 [==============================] - 2s 1ms/step - loss: 0.0018 - accuracy: 0.9994 - val_loss: 0.0097 - val_accuracy: 0.9972\n",
      "Epoch 22/50\n",
      "1722/1722 [==============================] - 2s 1ms/step - loss: 0.0021 - accuracy: 0.9993 - val_loss: 0.0077 - val_accuracy: 0.9975\n",
      "Epoch 23/50\n",
      "1722/1722 [==============================] - 2s 1ms/step - loss: 0.0016 - accuracy: 0.9995 - val_loss: 0.0102 - val_accuracy: 0.9977\n",
      "Epoch 24/50\n",
      "1722/1722 [==============================] - 2s 1ms/step - loss: 0.0014 - accuracy: 0.9995 - val_loss: 0.0116 - val_accuracy: 0.9974\n",
      "Epoch 25/50\n",
      "1722/1722 [==============================] - 2s 1ms/step - loss: 0.0016 - accuracy: 0.9994 - val_loss: 0.0112 - val_accuracy: 0.9972\n",
      "Epoch 26/50\n",
      "1722/1722 [==============================] - 2s 1ms/step - loss: 0.0019 - accuracy: 0.9993 - val_loss: 0.0105 - val_accuracy: 0.9969\n",
      "Epoch 27/50\n",
      "1722/1722 [==============================] - 2s 1ms/step - loss: 0.0012 - accuracy: 0.9996 - val_loss: 0.0131 - val_accuracy: 0.9977\n",
      "Epoch 28/50\n",
      "1722/1722 [==============================] - 2s 1ms/step - loss: 9.9953e-04 - accuracy: 0.9997 - val_loss: 0.0110 - val_accuracy: 0.9971\n",
      "Epoch 29/50\n",
      "1722/1722 [==============================] - 2s 1ms/step - loss: 0.0013 - accuracy: 0.9995 - val_loss: 0.0124 - val_accuracy: 0.9971\n",
      "Epoch 30/50\n",
      "1722/1722 [==============================] - 2s 1ms/step - loss: 0.0018 - accuracy: 0.9994 - val_loss: 0.0105 - val_accuracy: 0.9974\n",
      "Epoch 31/50\n",
      "1722/1722 [==============================] - 2s 1ms/step - loss: 0.0011 - accuracy: 0.9997 - val_loss: 0.0111 - val_accuracy: 0.9974\n",
      "Epoch 32/50\n",
      "1722/1722 [==============================] - 2s 1ms/step - loss: 0.0015 - accuracy: 0.9996 - val_loss: 0.0118 - val_accuracy: 0.9971\n",
      "Epoch 33/50\n",
      "1722/1722 [==============================] - 2s 1ms/step - loss: 0.0010 - accuracy: 0.9998 - val_loss: 0.0129 - val_accuracy: 0.9972\n",
      "Epoch 34/50\n",
      "1722/1722 [==============================] - 2s 1ms/step - loss: 9.4530e-04 - accuracy: 0.9998 - val_loss: 0.0173 - val_accuracy: 0.9971\n",
      "Epoch 35/50\n",
      "1722/1722 [==============================] - 2s 1ms/step - loss: 0.0012 - accuracy: 0.9997 - val_loss: 0.0132 - val_accuracy: 0.9971\n",
      "Epoch 36/50\n",
      "1722/1722 [==============================] - 2s 1ms/step - loss: 7.0323e-04 - accuracy: 0.9997 - val_loss: 0.0146 - val_accuracy: 0.9975\n",
      "Epoch 37/50\n",
      "1722/1722 [==============================] - 2s 1ms/step - loss: 0.0010 - accuracy: 0.9998 - val_loss: 0.0204 - val_accuracy: 0.9959\n",
      "Epoch 38/50\n",
      "1722/1722 [==============================] - 2s 1ms/step - loss: 8.0180e-04 - accuracy: 0.9997 - val_loss: 0.0122 - val_accuracy: 0.9975\n",
      "Epoch 39/50\n",
      "1722/1722 [==============================] - 2s 1ms/step - loss: 0.0015 - accuracy: 0.9995 - val_loss: 0.0108 - val_accuracy: 0.9975\n",
      "Epoch 40/50\n",
      "1722/1722 [==============================] - 2s 1ms/step - loss: 6.9940e-04 - accuracy: 0.9997 - val_loss: 0.0123 - val_accuracy: 0.9972\n",
      "Epoch 41/50\n",
      "1722/1722 [==============================] - 2s 1ms/step - loss: 6.2554e-04 - accuracy: 0.9998 - val_loss: 0.0115 - val_accuracy: 0.9979\n",
      "Epoch 42/50\n",
      "1722/1722 [==============================] - 2s 1ms/step - loss: 0.0012 - accuracy: 0.9997 - val_loss: 0.0124 - val_accuracy: 0.9975\n",
      "Epoch 43/50\n",
      "1722/1722 [==============================] - 2s 1ms/step - loss: 7.1960e-04 - accuracy: 0.9998 - val_loss: 0.0118 - val_accuracy: 0.9974\n",
      "Epoch 44/50\n",
      "1722/1722 [==============================] - 2s 1ms/step - loss: 6.9028e-04 - accuracy: 0.9998 - val_loss: 0.0254 - val_accuracy: 0.9954\n",
      "Epoch 45/50\n",
      "1722/1722 [==============================] - 2s 1ms/step - loss: 0.0019 - accuracy: 0.9994 - val_loss: 0.0091 - val_accuracy: 0.9974\n",
      "Epoch 46/50\n",
      "1722/1722 [==============================] - 2s 1ms/step - loss: 1.3146e-04 - accuracy: 1.0000 - val_loss: 0.0169 - val_accuracy: 0.9966\n",
      "Epoch 47/50\n",
      "1722/1722 [==============================] - 2s 1ms/step - loss: 0.0014 - accuracy: 0.9995 - val_loss: 0.0158 - val_accuracy: 0.9966\n",
      "Epoch 48/50\n",
      "1722/1722 [==============================] - 2s 1ms/step - loss: 3.8896e-04 - accuracy: 0.9999 - val_loss: 0.0140 - val_accuracy: 0.9967\n",
      "Epoch 49/50\n",
      "1722/1722 [==============================] - 2s 1ms/step - loss: 0.0013 - accuracy: 0.9997 - val_loss: 0.0106 - val_accuracy: 0.9977\n",
      "Epoch 50/50\n",
      "1722/1722 [==============================] - 2s 1ms/step - loss: 5.6457e-04 - accuracy: 0.9999 - val_loss: 0.0105 - val_accuracy: 0.9975\n"
     ]
    }
   ],
   "source": [
    "history_anomaly = model_an.fit(X_train_an, y_train_an, batch_size=32, epochs=50, validation_data=(X_test_an,y_test_an))"
   ]
  },
  {
   "cell_type": "code",
   "execution_count": 39,
   "id": "f40e91f2",
   "metadata": {},
   "outputs": [
    {
     "name": "stdout",
     "output_type": "stream",
     "text": [
      "Test-Accuracy: 0.9969869244098664\n"
     ]
    }
   ],
   "source": [
    "print(\"Test-Accuracy:\", np.mean(history_anomaly.history[\"val_accuracy\"]))"
   ]
  },
  {
   "cell_type": "code",
   "execution_count": 102,
   "id": "08929d0a",
   "metadata": {
    "scrolled": false
   },
   "outputs": [
    {
     "data": {
      "image/png": "[encoded data removed]",
      "text/plain": [
       "<Figure size 960x480 with 1 Axes>"
      ]
     },
     "metadata": {
      "needs_background": "light"
     },
     "output_type": "display_data"
    }
   ],
   "source": [
    "import matplotlib.pyplot as plt\n",
    "plt.figure(figsize=(8, 4), dpi=120)\n",
    "plt.plot(range(1,51), history_anomaly.history[\"val_accuracy\"], label = \"test\")\n",
    "plt.plot(range(1,51), history_anomaly.history[\"accuracy\"], label = \"train\")\n",
    "plt.legend()\n",
    "plt.grid()\n",
    "plt.show()"
   ]
  },
  {
   "cell_type": "code",
   "execution_count": 37,
   "id": "b76e0d09",
   "metadata": {},
   "outputs": [
    {
     "data": {
      "image/png": "[encoded data removed]",
      "text/plain": [
       "<Figure size 960x480 with 1 Axes>"
      ]
     },
     "metadata": {
      "needs_background": "light"
     },
     "output_type": "display_data"
    }
   ],
   "source": [
    "import matplotlib.pyplot as plt\n",
    "plt.figure(figsize=(8, 4), dpi=120)\n",
    "plt.plot(range(1,51), history_anomaly.history[\"val_loss\"], label = \"test\")\n",
    "plt.plot(range(1,51), history_anomaly.history[\"loss\"], label = \"train\")\n",
    "plt.legend()\n",
    "plt.show()"
   ]
  },
  {
   "cell_type": "markdown",
   "id": "e46520c3",
   "metadata": {},
   "source": [
    "## Тестирование моделей"
   ]
  },
  {
   "cell_type": "code",
   "execution_count": 29,
   "id": "363e7979",
   "metadata": {},
   "outputs": [
    {
     "name": "stderr",
     "output_type": "stream",
     "text": [
      "/home/uadmin/.local/lib/python3.8/site-packages/tqdm/auto.py:22: TqdmWarning: IProgress not found. Please update jupyter and ipywidgets. See https://ipywidgets.readthedocs.io/en/stable/user_install.html\n",
      "  from .autonotebook import tqdm as notebook_tqdm\n"
     ]
    }
   ],
   "source": [
    "import os\n",
    "import pandas as pd\n",
    "import numpy as np\n",
    "import pickle\n",
    "import warnings\n",
    "from multiprocessing import Process, Lock\n",
    "import tensorflow_hub as hub\n",
    "import tensorflow_text\n",
    "import torch"
   ]
  },
  {
   "cell_type": "code",
   "execution_count": 30,
   "id": "95d4090a",
   "metadata": {},
   "outputs": [
    {
     "name": "stderr",
     "output_type": "stream",
     "text": [
      "Some weights of the model checkpoint at DeepPavlov/rubert-base-cased-conversational were not used when initializing BertModel: ['cls.predictions.bias', 'cls.predictions.transform.dense.bias', 'cls.predictions.transform.LayerNorm.bias', 'cls.seq_relationship.weight', 'cls.predictions.decoder.bias', 'cls.predictions.decoder.weight', 'cls.predictions.transform.dense.weight', 'cls.predictions.transform.LayerNorm.weight', 'cls.seq_relationship.bias']\n",
      "- This IS expected if you are initializing BertModel from the checkpoint of a model trained on another task or with another architecture (e.g. initializing a BertForSequenceClassification model from a BertForPreTraining model).\n",
      "- This IS NOT expected if you are initializing BertModel from the checkpoint of a model that you expect to be exactly identical (initializing a BertForSequenceClassification model from a BertForSequenceClassification model).\n"
     ]
    }
   ],
   "source": [
    "from transformers import AutoTokenizer, AutoModel\n",
    "tokenizer = AutoTokenizer.from_pretrained(\"DeepPavlov/rubert-base-cased-conversational\")\n",
    "model_bert = AutoModel.from_pretrained(\"DeepPavlov/rubert-base-cased-conversational\")"
   ]
  },
  {
   "cell_type": "code",
   "execution_count": 33,
   "id": "ced9b637",
   "metadata": {},
   "outputs": [],
   "source": [
    "def bert_transf_km(text, batch_l = 2):\n",
    "    train_encodings = tokenizer(text, truncation=True, padding='max_length', max_length=256)\n",
    "    input_ids = torch.tensor(train_encodings['input_ids'])\n",
    "    BATCH_LENGTH = batch_l\n",
    "    embeddings = np.empty((0,768))\n",
    "    device = torch.device(\"cuda\")\n",
    "    device2 = torch.device(\"cpu\")\n",
    "    model_bert.to('cuda')\n",
    "    with torch.no_grad():\n",
    "        for batch_num in range(int(len(input_ids) / BATCH_LENGTH)):\n",
    "            try:\n",
    "                batch = input_ids[batch_num * BATCH_LENGTH : (batch_num + 1) * BATCH_LENGTH].cuda()\n",
    "                results = model_bert(batch)\n",
    "                head_output = results[0][:,0,:].cpu().detach().numpy()\n",
    "                embeddings = np.concatenate((embeddings, head_output))\n",
    "                print(f\"processed batch {batch_num}\")\n",
    "            except Exception:\n",
    "                pass\n",
    "    res = model_km.predict(embeddings)\n",
    "    print(res, np.argmax(res), sep='\\n')"
   ]
  },
  {
   "cell_type": "code",
   "execution_count": 87,
   "id": "46f25cc1",
   "metadata": {},
   "outputs": [],
   "source": [
    "def bert_transf_an(text, batch_l = 2):\n",
    "    train_encodings = tokenizer(text, truncation=True, padding='max_length', max_length=256)\n",
    "    input_ids = torch.tensor(train_encodings['input_ids'])\n",
    "    BATCH_LENGTH = batch_l\n",
    "    embeddings = np.empty((0,768))\n",
    "    device = torch.device(\"cuda\")\n",
    "    device2 = torch.device(\"cpu\")\n",
    "    model_bert.to('cuda')\n",
    "    with torch.no_grad():\n",
    "        for batch_num in range(int(len(input_ids) / BATCH_LENGTH)):\n",
    "            try:\n",
    "                batch = input_ids[batch_num * BATCH_LENGTH : (batch_num + 1) * BATCH_LENGTH].cuda()\n",
    "                results = model_bert(batch)\n",
    "                head_output = results[0][:,0,:].cpu().detach().numpy()\n",
    "                embeddings = np.concatenate((embeddings, head_output))\n",
    "                print(f\"processed batch {batch_num}\")\n",
    "            except Exception:\n",
    "                pass\n",
    "    res = model_an.predict(embeddings)\n",
    "    print(res, np.argmax(res), sep='\\n')"
   ]
  },
  {
   "cell_type": "code",
   "execution_count": 36,
   "id": "222fe97d",
   "metadata": {},
   "outputs": [
    {
     "name": "stdout",
     "output_type": "stream",
     "text": [
      "processed batch 0\n",
      "[[0. 0. 0. 0. 1. 0.]]\n",
      "4\n"
     ]
    }
   ],
   "source": [
    "t = ['павел любовь значит наша ограбить ключи готов и у меня одного ключа не хватает прав да прибор листочек не дали не медали минутку сейчас я подниму перешлю вам хорошо когда рассказываешь хорошо ']\n",
    "emb = bert_transf_km(t, batch_l = 1)"
   ]
  },
  {
   "cell_type": "code",
   "execution_count": 98,
   "id": "bd154f64",
   "metadata": {},
   "outputs": [
    {
     "name": "stdout",
     "output_type": "stream",
     "text": [
      "processed batch 0\n",
      "[[4.063848e-37 1.000000e+00]]\n",
      "1\n"
     ]
    }
   ],
   "source": [
    "t = [' здравствуйте компания контур какой продукт объясниться сказать сумма перевести звонок специалист который помочь ваш разговор записать гм пожалуйста получить консультация использовать кнопка один пять передать отлично']\n",
    "emb = bert_transf_an(t, batch_l = 1)"
   ]
  },
  {
   "cell_type": "code",
   "execution_count": 89,
   "id": "febc081a",
   "metadata": {},
   "outputs": [
    {
     "name": "stdout",
     "output_type": "stream",
     "text": [
      "processed batch 0\n",
      "[[1.3812179e-04 9.9986184e-01]]\n",
      "1\n"
     ]
    }
   ],
   "source": [
    "t_2 = [' здравствуйте здравствуйте это компания марк гарант выноситься юридический театр готовиться офис хотеться узнать скутер это реализация распять одиннадцать сердиться сильный уточнение адрес это посмотреть киносеанс стереть сертификат попробовать повысить это буквально бизнес медитировать плановый замена должный секрет сосиска посмотреть форма личный кабинет зайти личный кабинет знать нужно выйти интернет эксплорер портал который называться контур короче либо любой пункт список стилистика диск уолтер первый ссылочка такой соответственно номер телефон нужно авторизоваться зайти соответственно форма третий выполнение проверить инквизиция катя выпустить новый либо идти проверка нужно загс вернуться либо сразу преимущество защищаться качество вариант это списать ввозиться жена сертификат отозвать спасибо большой']\n",
    "emb = bert_transf_an(t_2, batch_l = 1)"
   ]
  },
  {
   "cell_type": "code",
   "execution_count": 97,
   "id": "02cf3d53",
   "metadata": {},
   "outputs": [
    {
     "name": "stdout",
     "output_type": "stream",
     "text": [
      "[[1.0000000e+00 6.8046777e-11 2.5970170e-10 1.6614940e-11 1.6589563e-20\n",
      "  2.6708752e-12]]\n",
      "0\n",
      "0 1\n",
      "[[1.1298496e-32 1.0934501e-27 0.0000000e+00 0.0000000e+00 1.0000000e+00\n",
      "  9.2528854e-34]]\n",
      "4\n",
      "0 2\n",
      "[[0. 1. 0. 0. 0. 0.]]\n",
      "1\n",
      "0 3\n",
      "[[2.3304039e-17 2.2835255e-25 1.6077922e-21 1.0000000e+00 0.0000000e+00\n",
      "  9.4714700e-21]]\n",
      "3\n",
      "0 4\n",
      "[[6.1091086e-08 3.3318789e-11 2.6472114e-06 9.9999726e-01 1.2831343e-17\n",
      "  2.0249294e-08]]\n",
      "3\n",
      "0 5\n",
      "[[7.4614726e-14 2.4547076e-20 5.6316641e-15 1.0000000e+00 1.2677143e-33\n",
      "  1.3409627e-16]]\n",
      "3\n",
      "0 6\n",
      "[[3.4035020e-13 1.6485922e-19 4.5241855e-15 1.0000000e+00 2.8662599e-32\n",
      "  1.1249995e-15]]\n",
      "3\n",
      "0 7\n",
      "[[6.9001210e-20 2.2748553e-19 3.1083149e-19 4.1574402e-16 2.7292102e-09\n",
      "  1.0000000e+00]]\n",
      "5\n",
      "0 8\n",
      "[[7.6920722e-14 5.6707957e-21 3.4236006e-17 1.0000000e+00 6.2838059e-35\n",
      "  5.6604115e-17]]\n",
      "3\n",
      "0 9\n",
      "[[5.9451871e-10 1.3927156e-14 1.0000000e+00 1.2853770e-09 9.0353862e-23\n",
      "  5.8703670e-10]]\n",
      "2\n",
      "0 10\n",
      "[[7.8455133e-12 2.7468508e-17 1.4936572e-12 1.0000000e+00 3.0592239e-28\n",
      "  8.6847135e-14]]\n",
      "3\n",
      "0 11\n",
      "[[8.99322210e-17 2.33750944e-24 1.03712325e-20 1.00000000e+00\n",
      "  0.00000000e+00 5.78988495e-20]]\n",
      "3\n",
      "0 12\n",
      "[[0. 1. 0. 0. 0. 0.]]\n",
      "1\n",
      "0 13\n",
      "[[3.1628048e-08 2.3770593e-12 2.0318859e-05 9.9997973e-01 2.4928773e-19\n",
      "  2.9023071e-09]]\n",
      "3\n",
      "0 14\n",
      "[[3.2141995e-10 1.9669405e-15 1.0000000e+00 4.9174465e-10 3.3679016e-24\n",
      "  1.1872063e-10]]\n",
      "2\n",
      "0 15\n",
      "[[1.0420335e-26 1.0000000e+00 0.0000000e+00 0.0000000e+00 5.3748186e-37\n",
      "  5.8480867e-35]]\n",
      "1\n",
      "0 16\n",
      "[[1.13964775e-10 4.83238796e-11 2.99649140e-13 1.64683352e-05\n",
      "  3.84348994e-07 9.99983191e-01]]\n",
      "5\n",
      "0 17\n",
      "[[1.0000000e+00 2.8899988e-08 2.4588005e-11 2.5619689e-09 5.2025297e-19\n",
      "  4.0201870e-12]]\n",
      "0\n",
      "0 18\n",
      "[[6.3713856e-08 1.2087467e-11 9.9997628e-01 2.3513025e-05 2.8084076e-17\n",
      "  1.6909104e-07]]\n",
      "2\n",
      "0 19\n",
      "[[1.6840611e-18 2.6539295e-27 6.4043151e-22 1.0000000e+00 0.0000000e+00\n",
      "  5.2432457e-22]]\n",
      "3\n",
      "0 20\n",
      "[[5.8316072e-18 3.7992676e-15 5.0758406e-31 1.9798509e-30 1.0000000e+00\n",
      "  6.5649150e-17]]\n",
      "4\n",
      "0 21\n",
      "[[7.0407579e-18 1.2502475e-25 1.2244649e-21 1.0000000e+00 0.0000000e+00\n",
      "  5.2324586e-21]]\n",
      "3\n",
      "0 22\n",
      "[[2.7595196e-15 7.7326852e-22 5.2877045e-19 1.0000000e+00 8.3406019e-38\n",
      "  1.4154626e-18]]\n",
      "3\n",
      "0 23\n",
      "[[2.4202725e-16 6.4528329e-26 1.0000000e+00 2.1153385e-21 0.0000000e+00\n",
      "  1.5559460e-18]]\n",
      "2\n",
      "0 24\n",
      "[[9.6602534e-08 3.0209845e-11 9.9995172e-01 4.7829722e-05 1.4696579e-16\n",
      "  4.1208253e-07]]\n",
      "2\n",
      "0 25\n",
      "[[6.2422271e-15 2.5742172e-22 4.0992937e-18 1.0000000e+00 9.1802690e-37\n",
      "  4.2794536e-18]]\n",
      "3\n",
      "0 26\n",
      "[[9.4004149e-21 2.3931877e-17 3.8978787e-36 3.0593064e-35 1.0000000e+00\n",
      "  5.7113525e-20]]\n",
      "4\n",
      "0 27\n",
      "[[3.0896722e-06 2.0656749e-08 9.9957389e-01 3.6929833e-04 6.1513412e-12\n",
      "  5.3791526e-05]]\n",
      "2\n",
      "0 28\n",
      "[[0. 1. 0. 0. 0. 0.]]\n",
      "1\n",
      "0 29\n"
     ]
    }
   ],
   "source": [
    "for i in range(1,30):\n",
    "    res = model_km.predict(corpus_embeds_np[i:i+1])\n",
    "    print(res, np.argmax(res), sep='\\n')\n",
    "    print(anomaly_np_dum[1][i], i)"
   ]
  },
  {
   "cell_type": "code",
   "execution_count": null,
   "id": "095afb08",
   "metadata": {},
   "outputs": [],
   "source": [
    "\n"
   ]
  },
  {
   "cell_type": "code",
   "execution_count": null,
   "id": "4328c9a0",
   "metadata": {},
   "outputs": [],
   "source": [
    "если вы знаете внутренний номер сотрудника наберите его в тоновом режиме соединяю сотрудникам \n",
    "пожалуйста ожидайте соединения в настоящий момент все операторы заняты вы можете оставаться на линии \n",
    "вас соединят с первым же освободившимся оператором спасибо в настоящий момент все операторы заняты \n",
    "вы можете оставаться на линии вас соединят с первым же освободившимся оператором спасибо в настоящий \n",
    "момент все операторы заняты вы можете оставаться на линии вас соединят с первым же освободившимся \n",
    "оператором спасибо в настоящий момент все операторы заняты вы можете оставаться на линии вас \n",
    "соединят с первым же освободившимся оператором"
   ]
  },
  {
   "cell_type": "code",
   "execution_count": 99,
   "id": "0c049d49",
   "metadata": {},
   "outputs": [
    {
     "data": {
      "text/plain": [
       "[' здравствуйте компания контур какой продукт объясниться сказать сумма перевести звонок специалист который помочь ваш разговор записать гм пожалуйста получить консультация использовать кнопка один пять передать отлично']"
      ]
     },
     "execution_count": 99,
     "metadata": {},
     "output_type": "execute_result"
    }
   ],
   "source": [
    "t"
   ]
  },
  {
   "cell_type": "markdown",
   "id": "a20175f7",
   "metadata": {},
   "source": []
  }
 ],
 "metadata": {
  "kernelspec": {
   "display_name": "Python 3",
   "language": "python",
   "name": "python3"
  },
  "language_info": {
   "codemirror_mode": {
    "name": "ipython",
    "version": 3
   },
   "file_extension": ".py",
   "mimetype": "text/x-python",
   "name": "python",
   "nbconvert_exporter": "python",
   "pygments_lexer": "ipython3",
   "version": "3.8.10"
  }
 },
 "nbformat": 4,
 "nbformat_minor": 5
}
